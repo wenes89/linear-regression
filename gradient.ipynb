{
 "cells": [
  {
   "cell_type": "code",
   "execution_count": 1,
   "id": "coated-shell",
   "metadata": {},
   "outputs": [],
   "source": [
    "import pandas as pd\n",
    "import numpy as np\n",
    "import matplotlib.pyplot as plt\n",
    "import datetime as dt\n",
    "import seaborn as sns"
   ]
  },
  {
   "cell_type": "code",
   "execution_count": 31,
   "id": "incorporate-training",
   "metadata": {},
   "outputs": [],
   "source": [
    "def gradientdescent(x,y,maxiter = 1000, lr = 1, normalize = False ):\n",
    "    if normalize:\n",
    "        x = x/y\n",
    "        y = y/y\n",
    "    tolerance = 10**(-3)\n",
    "    grad = 92\n",
    "    iter_ = 0\n",
    "    a = np.random.random()\n",
    "    print(\"a nın baslangic değeri =\",a)\n",
    "    \n",
    "    while (abs(grad) > tolerance) and (maxiter > iter_):\n",
    "        grad = 2 * (y-a*x)*(-x)\n",
    "        a = a - lr * grad \n",
    "        if iter_%100 == 0:\n",
    "            print(f\"gradient iterasyonu{iter_},{grad}\")\n",
    "        iter_+=1\n",
    "    print(\"son iterasyon no:\",iter_)\n",
    "    print(\"mevcut gradient:\",grad)\n",
    "    return a "
   ]
  },
  {
   "cell_type": "code",
   "execution_count": 32,
   "id": "mexican-crest",
   "metadata": {},
   "outputs": [
    {
     "name": "stdout",
     "output_type": "stream",
     "text": [
      "a nın baslangic değeri = 0.8029440772675472\n",
      "gradient iterasyonu0,-793.5764473818596\n",
      "gradient iterasyonu100,-2.5668043776480917e+87\n",
      "gradient iterasyonu200,-8.30226846430475e+171\n",
      "gradient iterasyonu300,-2.6853492324392138e+256\n",
      "son iterasyon no: 365\n",
      "mevcut gradient: nan\n"
     ]
    },
    {
     "data": {
      "text/plain": [
       "nan"
      ]
     },
     "execution_count": 32,
     "metadata": {},
     "output_type": "execute_result"
    }
   ],
   "source": [
    "gradientdescent(2,200)"
   ]
  },
  {
   "cell_type": "code",
   "execution_count": 14,
   "id": "hairy-banks",
   "metadata": {},
   "outputs": [
    {
     "data": {
      "text/plain": [
       "False"
      ]
     },
     "execution_count": 14,
     "metadata": {},
     "output_type": "execute_result"
    }
   ],
   "source": []
  },
  {
   "cell_type": "code",
   "execution_count": null,
   "id": "painted-oracle",
   "metadata": {},
   "outputs": [],
   "source": []
  },
  {
   "cell_type": "code",
   "execution_count": null,
   "id": "expired-aurora",
   "metadata": {},
   "outputs": [],
   "source": []
  },
  {
   "cell_type": "code",
   "execution_count": null,
   "id": "departmental-acrylic",
   "metadata": {},
   "outputs": [],
   "source": []
  }
 ],
 "metadata": {
  "kernelspec": {
   "display_name": "Python 3",
   "language": "python",
   "name": "python3"
  },
  "language_info": {
   "codemirror_mode": {
    "name": "ipython",
    "version": 3
   },
   "file_extension": ".py",
   "mimetype": "text/x-python",
   "name": "python",
   "nbconvert_exporter": "python",
   "pygments_lexer": "ipython3",
   "version": "3.7.4"
  }
 },
 "nbformat": 4,
 "nbformat_minor": 5
}
